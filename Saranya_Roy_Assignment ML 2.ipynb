{
  "nbformat": 4,
  "nbformat_minor": 0,
  "metadata": {
    "colab": {
      "name": "Saranya Roy Assignment 2.ipynb",
      "provenance": []
    },
    "kernelspec": {
      "name": "python3",
      "display_name": "Python 3"
    }
  },
  "cells": [
    {
      "cell_type": "markdown",
      "metadata": {
        "id": "9ZQioGnTfvrH"
      },
      "source": [
        "**Tasks :**\r\n",
        "1. Display the mean of any two variables with continuous values\r\n",
        "2. Print the number of discrete variables\r\n",
        "3. Display the unique values of two variables with discrete values\r\n",
        "4. Display the Month with most of loans issued date\r\n",
        "5. Display the count of ‘Teacher’ who are ‘Owners’\r\n",
        "6. Display the ‘Employment’ of customers who mostly ‘Rent’"
      ]
    },
    {
      "cell_type": "markdown",
      "metadata": {
        "id": "vCDsXmwugJ_m"
      },
      "source": [
        "### **Importing Libraries :**"
      ]
    },
    {
      "cell_type": "code",
      "metadata": {
        "id": "tpOMiUSCgM6u"
      },
      "source": [
        "import numpy as np \r\n",
        "import pandas as pd \r\n",
        "import datetime as dt\r\n",
        "import matplotlib.pyplot as plt \r\n",
        "import seaborn as sns "
      ],
      "execution_count": null,
      "outputs": []
    },
    {
      "cell_type": "code",
      "metadata": {
        "colab": {
          "base_uri": "https://localhost:8080/",
          "height": 282
        },
        "id": "nmE40AsnfrTR",
        "outputId": "d2c7e560-75b8-438f-a74c-3ce94e8760ec"
      },
      "source": [
        "loan_data=pd.read_csv(\"/content/loan.csv\")\r\n",
        "loan_data.head()"
      ],
      "execution_count": null,
      "outputs": [
        {
          "output_type": "execute_result",
          "data": {
            "text/html": [
              "<div>\n",
              "<style scoped>\n",
              "    .dataframe tbody tr th:only-of-type {\n",
              "        vertical-align: middle;\n",
              "    }\n",
              "\n",
              "    .dataframe tbody tr th {\n",
              "        vertical-align: top;\n",
              "    }\n",
              "\n",
              "    .dataframe thead th {\n",
              "        text-align: right;\n",
              "    }\n",
              "</style>\n",
              "<table border=\"1\" class=\"dataframe\">\n",
              "  <thead>\n",
              "    <tr style=\"text-align: right;\">\n",
              "      <th></th>\n",
              "      <th>customer_id</th>\n",
              "      <th>disbursed_amount</th>\n",
              "      <th>interest</th>\n",
              "      <th>market</th>\n",
              "      <th>employment</th>\n",
              "      <th>time_employed</th>\n",
              "      <th>householder</th>\n",
              "      <th>income</th>\n",
              "      <th>date_issued</th>\n",
              "      <th>target</th>\n",
              "      <th>loan_purpose</th>\n",
              "      <th>number_open_accounts</th>\n",
              "      <th>date_last_payment</th>\n",
              "      <th>number_credit_lines_12</th>\n",
              "    </tr>\n",
              "  </thead>\n",
              "  <tbody>\n",
              "    <tr>\n",
              "      <th>0</th>\n",
              "      <td>0</td>\n",
              "      <td>23201.5</td>\n",
              "      <td>15.4840</td>\n",
              "      <td>C</td>\n",
              "      <td>Teacher</td>\n",
              "      <td>&lt;=5 years</td>\n",
              "      <td>RENT</td>\n",
              "      <td>84600.0</td>\n",
              "      <td>2013-06-11</td>\n",
              "      <td>0</td>\n",
              "      <td>Debt consolidation</td>\n",
              "      <td>4.0</td>\n",
              "      <td>2016-01-14</td>\n",
              "      <td>NaN</td>\n",
              "    </tr>\n",
              "    <tr>\n",
              "      <th>1</th>\n",
              "      <td>1</td>\n",
              "      <td>7425.0</td>\n",
              "      <td>11.2032</td>\n",
              "      <td>B</td>\n",
              "      <td>Accountant</td>\n",
              "      <td>&lt;=5 years</td>\n",
              "      <td>OWNER</td>\n",
              "      <td>102000.0</td>\n",
              "      <td>2014-05-08</td>\n",
              "      <td>0</td>\n",
              "      <td>Car purchase</td>\n",
              "      <td>13.0</td>\n",
              "      <td>2016-01-25</td>\n",
              "      <td>NaN</td>\n",
              "    </tr>\n",
              "    <tr>\n",
              "      <th>2</th>\n",
              "      <td>2</td>\n",
              "      <td>11150.0</td>\n",
              "      <td>8.5100</td>\n",
              "      <td>A</td>\n",
              "      <td>Statistician</td>\n",
              "      <td>&lt;=5 years</td>\n",
              "      <td>RENT</td>\n",
              "      <td>69840.0</td>\n",
              "      <td>2013-10-26</td>\n",
              "      <td>0</td>\n",
              "      <td>Debt consolidation</td>\n",
              "      <td>8.0</td>\n",
              "      <td>2014-09-26</td>\n",
              "      <td>NaN</td>\n",
              "    </tr>\n",
              "    <tr>\n",
              "      <th>3</th>\n",
              "      <td>3</td>\n",
              "      <td>7600.0</td>\n",
              "      <td>5.8656</td>\n",
              "      <td>A</td>\n",
              "      <td>Other</td>\n",
              "      <td>&lt;=5 years</td>\n",
              "      <td>RENT</td>\n",
              "      <td>100386.0</td>\n",
              "      <td>2015-08-20</td>\n",
              "      <td>0</td>\n",
              "      <td>Debt consolidation</td>\n",
              "      <td>20.0</td>\n",
              "      <td>2016-01-26</td>\n",
              "      <td>NaN</td>\n",
              "    </tr>\n",
              "    <tr>\n",
              "      <th>4</th>\n",
              "      <td>4</td>\n",
              "      <td>31960.0</td>\n",
              "      <td>18.7392</td>\n",
              "      <td>E</td>\n",
              "      <td>Bus driver</td>\n",
              "      <td>&gt;5 years</td>\n",
              "      <td>RENT</td>\n",
              "      <td>95040.0</td>\n",
              "      <td>2014-07-22</td>\n",
              "      <td>0</td>\n",
              "      <td>Debt consolidation</td>\n",
              "      <td>14.0</td>\n",
              "      <td>2016-01-11</td>\n",
              "      <td>NaN</td>\n",
              "    </tr>\n",
              "  </tbody>\n",
              "</table>\n",
              "</div>"
            ],
            "text/plain": [
              "   customer_id  disbursed_amount  ...  date_last_payment number_credit_lines_12\n",
              "0            0           23201.5  ...         2016-01-14                    NaN\n",
              "1            1            7425.0  ...         2016-01-25                    NaN\n",
              "2            2           11150.0  ...         2014-09-26                    NaN\n",
              "3            3            7600.0  ...         2016-01-26                    NaN\n",
              "4            4           31960.0  ...         2016-01-11                    NaN\n",
              "\n",
              "[5 rows x 14 columns]"
            ]
          },
          "metadata": {
            "tags": []
          },
          "execution_count": 2
        }
      ]
    },
    {
      "cell_type": "code",
      "metadata": {
        "colab": {
          "base_uri": "https://localhost:8080/"
        },
        "id": "wnI1dJxFgR55",
        "outputId": "031fdb0e-9858-4472-8a90-ee633784fe72"
      },
      "source": [
        "loan_data.shape"
      ],
      "execution_count": null,
      "outputs": [
        {
          "output_type": "execute_result",
          "data": {
            "text/plain": [
              "(10000, 14)"
            ]
          },
          "metadata": {
            "tags": []
          },
          "execution_count": 3
        }
      ]
    },
    {
      "cell_type": "code",
      "metadata": {
        "colab": {
          "base_uri": "https://localhost:8080/"
        },
        "id": "OYOxA9bsgV9V",
        "outputId": "0d417857-90af-4133-8b82-cd94fce231ba"
      },
      "source": [
        "loan_data.info()"
      ],
      "execution_count": null,
      "outputs": [
        {
          "output_type": "stream",
          "text": [
            "<class 'pandas.core.frame.DataFrame'>\n",
            "RangeIndex: 10000 entries, 0 to 9999\n",
            "Data columns (total 14 columns):\n",
            " #   Column                  Non-Null Count  Dtype  \n",
            "---  ------                  --------------  -----  \n",
            " 0   customer_id             10000 non-null  int64  \n",
            " 1   disbursed_amount        10000 non-null  float64\n",
            " 2   interest                10000 non-null  float64\n",
            " 3   market                  10000 non-null  object \n",
            " 4   employment              9389 non-null   object \n",
            " 5   time_employed           9471 non-null   object \n",
            " 6   householder             10000 non-null  object \n",
            " 7   income                  10000 non-null  float64\n",
            " 8   date_issued             10000 non-null  object \n",
            " 9   target                  10000 non-null  int64  \n",
            " 10  loan_purpose            10000 non-null  object \n",
            " 11  number_open_accounts    10000 non-null  float64\n",
            " 12  date_last_payment       10000 non-null  object \n",
            " 13  number_credit_lines_12  238 non-null    float64\n",
            "dtypes: float64(5), int64(2), object(7)\n",
            "memory usage: 1.1+ MB\n"
          ],
          "name": "stdout"
        }
      ]
    },
    {
      "cell_type": "markdown",
      "metadata": {
        "id": "a6zkljvggcnU"
      },
      "source": [
        "### **TASK 1:**\r\n",
        "\r\n",
        "Display the mean of any two variables with continuous values\r\n",
        "\r\n",
        "**Note :** Here , I consider disbursed amount and interest as two variables with continuous values."
      ]
    },
    {
      "cell_type": "code",
      "metadata": {
        "colab": {
          "base_uri": "https://localhost:8080/"
        },
        "id": "LSNc_aP2guGY",
        "outputId": "034f85cf-dcea-452c-9d82-32c9e4671281"
      },
      "source": [
        "def mean(col):\r\n",
        "  mean=loan_data[col].mean()\r\n",
        "  return mean \r\n",
        "\r\n",
        "print(\"Mean of disbursed amount feature : \",mean('disbursed_amount'))\r\n",
        "print(\"Mean of interest feature : \",mean('interest'))"
      ],
      "execution_count": null,
      "outputs": [
        {
          "output_type": "stream",
          "text": [
            "Mean of distributed amount feature :  14132.2755\n",
            "Mean of interest feature :  12.678819440000039\n"
          ],
          "name": "stdout"
        }
      ]
    },
    {
      "cell_type": "markdown",
      "metadata": {
        "id": "Ynd-3xABhGL4"
      },
      "source": [
        "### **TASK 2:**\r\n",
        "Print the number of discrete variables"
      ]
    },
    {
      "cell_type": "code",
      "metadata": {
        "colab": {
          "base_uri": "https://localhost:8080/",
          "height": 284
        },
        "id": "wH_jz_cJhPyJ",
        "outputId": "e00a7bb8-11ee-45d0-b181-2e3d4b0a1dcb"
      },
      "source": [
        "loan_data.describe(include=['int64','float64'])"
      ],
      "execution_count": null,
      "outputs": [
        {
          "output_type": "execute_result",
          "data": {
            "text/html": [
              "<div>\n",
              "<style scoped>\n",
              "    .dataframe tbody tr th:only-of-type {\n",
              "        vertical-align: middle;\n",
              "    }\n",
              "\n",
              "    .dataframe tbody tr th {\n",
              "        vertical-align: top;\n",
              "    }\n",
              "\n",
              "    .dataframe thead th {\n",
              "        text-align: right;\n",
              "    }\n",
              "</style>\n",
              "<table border=\"1\" class=\"dataframe\">\n",
              "  <thead>\n",
              "    <tr style=\"text-align: right;\">\n",
              "      <th></th>\n",
              "      <th>customer_id</th>\n",
              "      <th>disbursed_amount</th>\n",
              "      <th>interest</th>\n",
              "      <th>income</th>\n",
              "      <th>target</th>\n",
              "      <th>number_open_accounts</th>\n",
              "      <th>number_credit_lines_12</th>\n",
              "    </tr>\n",
              "  </thead>\n",
              "  <tbody>\n",
              "    <tr>\n",
              "      <th>count</th>\n",
              "      <td>10000.00000</td>\n",
              "      <td>10000.000000</td>\n",
              "      <td>10000.000000</td>\n",
              "      <td>1.000000e+04</td>\n",
              "      <td>10000.000000</td>\n",
              "      <td>10000.000000</td>\n",
              "      <td>238.000000</td>\n",
              "    </tr>\n",
              "    <tr>\n",
              "      <th>mean</th>\n",
              "      <td>4999.50000</td>\n",
              "      <td>14132.275500</td>\n",
              "      <td>12.678819</td>\n",
              "      <td>7.157229e+04</td>\n",
              "      <td>0.011700</td>\n",
              "      <td>12.516300</td>\n",
              "      <td>1.785714</td>\n",
              "    </tr>\n",
              "    <tr>\n",
              "      <th>std</th>\n",
              "      <td>2886.89568</td>\n",
              "      <td>8058.310311</td>\n",
              "      <td>4.214989</td>\n",
              "      <td>5.286105e+04</td>\n",
              "      <td>0.107537</td>\n",
              "      <td>5.402615</td>\n",
              "      <td>1.197873</td>\n",
              "    </tr>\n",
              "    <tr>\n",
              "      <th>min</th>\n",
              "      <td>0.00000</td>\n",
              "      <td>910.000000</td>\n",
              "      <td>4.841200</td>\n",
              "      <td>0.000000e+00</td>\n",
              "      <td>0.000000</td>\n",
              "      <td>1.000000</td>\n",
              "      <td>0.000000</td>\n",
              "    </tr>\n",
              "    <tr>\n",
              "      <th>25%</th>\n",
              "      <td>2499.75000</td>\n",
              "      <td>7840.000000</td>\n",
              "      <td>9.490000</td>\n",
              "      <td>4.365000e+04</td>\n",
              "      <td>0.000000</td>\n",
              "      <td>9.000000</td>\n",
              "      <td>1.000000</td>\n",
              "    </tr>\n",
              "    <tr>\n",
              "      <th>50%</th>\n",
              "      <td>4999.50000</td>\n",
              "      <td>12375.000000</td>\n",
              "      <td>12.396900</td>\n",
              "      <td>6.045000e+04</td>\n",
              "      <td>0.000000</td>\n",
              "      <td>12.000000</td>\n",
              "      <td>2.000000</td>\n",
              "    </tr>\n",
              "    <tr>\n",
              "      <th>75%</th>\n",
              "      <td>7499.25000</td>\n",
              "      <td>19200.000000</td>\n",
              "      <td>15.475500</td>\n",
              "      <td>8.536000e+04</td>\n",
              "      <td>0.000000</td>\n",
              "      <td>15.000000</td>\n",
              "      <td>2.000000</td>\n",
              "    </tr>\n",
              "    <tr>\n",
              "      <th>max</th>\n",
              "      <td>9999.00000</td>\n",
              "      <td>35000.000000</td>\n",
              "      <td>27.880000</td>\n",
              "      <td>2.185000e+06</td>\n",
              "      <td>1.000000</td>\n",
              "      <td>49.000000</td>\n",
              "      <td>6.000000</td>\n",
              "    </tr>\n",
              "  </tbody>\n",
              "</table>\n",
              "</div>"
            ],
            "text/plain": [
              "       customer_id  ...  number_credit_lines_12\n",
              "count  10000.00000  ...              238.000000\n",
              "mean    4999.50000  ...                1.785714\n",
              "std     2886.89568  ...                1.197873\n",
              "min        0.00000  ...                0.000000\n",
              "25%     2499.75000  ...                1.000000\n",
              "50%     4999.50000  ...                2.000000\n",
              "75%     7499.25000  ...                2.000000\n",
              "max     9999.00000  ...                6.000000\n",
              "\n",
              "[8 rows x 7 columns]"
            ]
          },
          "metadata": {
            "tags": []
          },
          "execution_count": 8
        }
      ]
    },
    {
      "cell_type": "markdown",
      "metadata": {
        "id": "fRND7QoVhoEr"
      },
      "source": [
        "**Inference :** \r\n",
        "1. From the above statistics, we know that customer id is just the unique id and that doesn't fall under discrete variables.\r\n",
        "\r\n",
        "2. disbursed_amount, interest, income falls under continuous numerical features.\r\n",
        "\r\n",
        "3. Therefore, we take other 3 features namely 'target','number_open_accounts','number_credit_lines_12' to check if it is discrete features or not."
      ]
    },
    {
      "cell_type": "code",
      "metadata": {
        "colab": {
          "base_uri": "https://localhost:8080/"
        },
        "id": "u0SNeneCiMv3",
        "outputId": "61178d65-c1a7-4eb6-d698-16cb7a4c221a"
      },
      "source": [
        "discrete_varibale=['target','number_open_accounts','number_credit_lines_12']\r\n",
        "for col in discrete_varibale:\r\n",
        "  print(\"Discrete column : \",col)\r\n",
        "  print(\"Number of discrete values the feature can take :\",len(loan_data[col].value_counts()))\r\n",
        "  print(\"\\n\")"
      ],
      "execution_count": null,
      "outputs": [
        {
          "output_type": "stream",
          "text": [
            "Discrete column :  target\n",
            "Number of discrete values the feature can take : 2\n",
            "\n",
            "\n",
            "Discrete column :  number_open_accounts\n",
            "Number of discrete values the feature can take : 45\n",
            "\n",
            "\n",
            "Discrete column :  number_credit_lines_12\n",
            "Number of discrete values the feature can take : 7\n",
            "\n",
            "\n"
          ],
          "name": "stdout"
        }
      ]
    },
    {
      "cell_type": "markdown",
      "metadata": {
        "id": "qJGP88D7i8XL"
      },
      "source": [
        "### **Inference :** \r\n",
        "The above 3 features such as 'target','number_open_accounts','number_credit_lines_12' takes discrete values and therefore these can be treated as discrete variables."
      ]
    },
    {
      "cell_type": "code",
      "metadata": {
        "colab": {
          "base_uri": "https://localhost:8080/"
        },
        "id": "4IY2cwvyjGlT",
        "outputId": "a97dc602-e809-4820-d1e6-92c92c0560ff"
      },
      "source": [
        "print(\"Number of discrete variables : \",len(discrete_varibale))"
      ],
      "execution_count": null,
      "outputs": [
        {
          "output_type": "stream",
          "text": [
            "Number of discrete variables :  3\n"
          ],
          "name": "stdout"
        }
      ]
    },
    {
      "cell_type": "markdown",
      "metadata": {
        "id": "vFOi351Hjg_h"
      },
      "source": [
        "### **TASK 4:**\r\n",
        "Display the Month with most of loans issued date"
      ]
    },
    {
      "cell_type": "code",
      "metadata": {
        "colab": {
          "base_uri": "https://localhost:8080/",
          "height": 282
        },
        "id": "OdyGdJmiiMyU",
        "outputId": "74e1180b-4ec5-46e4-ff68-f83e69c63cff"
      },
      "source": [
        "# converting date_issued feature from object to datetime \r\n",
        "loan_data['date_issued']= pd.to_datetime(loan_data['date_issued'])\r\n",
        "loan_data['Month_loan_issued']=loan_data['date_issued'].dt.month\r\n",
        "loan_data.head()"
      ],
      "execution_count": null,
      "outputs": [
        {
          "output_type": "execute_result",
          "data": {
            "text/html": [
              "<div>\n",
              "<style scoped>\n",
              "    .dataframe tbody tr th:only-of-type {\n",
              "        vertical-align: middle;\n",
              "    }\n",
              "\n",
              "    .dataframe tbody tr th {\n",
              "        vertical-align: top;\n",
              "    }\n",
              "\n",
              "    .dataframe thead th {\n",
              "        text-align: right;\n",
              "    }\n",
              "</style>\n",
              "<table border=\"1\" class=\"dataframe\">\n",
              "  <thead>\n",
              "    <tr style=\"text-align: right;\">\n",
              "      <th></th>\n",
              "      <th>customer_id</th>\n",
              "      <th>disbursed_amount</th>\n",
              "      <th>interest</th>\n",
              "      <th>market</th>\n",
              "      <th>employment</th>\n",
              "      <th>time_employed</th>\n",
              "      <th>householder</th>\n",
              "      <th>income</th>\n",
              "      <th>date_issued</th>\n",
              "      <th>target</th>\n",
              "      <th>loan_purpose</th>\n",
              "      <th>number_open_accounts</th>\n",
              "      <th>date_last_payment</th>\n",
              "      <th>number_credit_lines_12</th>\n",
              "      <th>Month_loan_issued</th>\n",
              "    </tr>\n",
              "  </thead>\n",
              "  <tbody>\n",
              "    <tr>\n",
              "      <th>0</th>\n",
              "      <td>0</td>\n",
              "      <td>23201.5</td>\n",
              "      <td>15.4840</td>\n",
              "      <td>C</td>\n",
              "      <td>Teacher</td>\n",
              "      <td>&lt;=5 years</td>\n",
              "      <td>RENT</td>\n",
              "      <td>84600.0</td>\n",
              "      <td>2013-06-11</td>\n",
              "      <td>0</td>\n",
              "      <td>Debt consolidation</td>\n",
              "      <td>4.0</td>\n",
              "      <td>2016-01-14</td>\n",
              "      <td>NaN</td>\n",
              "      <td>6</td>\n",
              "    </tr>\n",
              "    <tr>\n",
              "      <th>1</th>\n",
              "      <td>1</td>\n",
              "      <td>7425.0</td>\n",
              "      <td>11.2032</td>\n",
              "      <td>B</td>\n",
              "      <td>Accountant</td>\n",
              "      <td>&lt;=5 years</td>\n",
              "      <td>OWNER</td>\n",
              "      <td>102000.0</td>\n",
              "      <td>2014-05-08</td>\n",
              "      <td>0</td>\n",
              "      <td>Car purchase</td>\n",
              "      <td>13.0</td>\n",
              "      <td>2016-01-25</td>\n",
              "      <td>NaN</td>\n",
              "      <td>5</td>\n",
              "    </tr>\n",
              "    <tr>\n",
              "      <th>2</th>\n",
              "      <td>2</td>\n",
              "      <td>11150.0</td>\n",
              "      <td>8.5100</td>\n",
              "      <td>A</td>\n",
              "      <td>Statistician</td>\n",
              "      <td>&lt;=5 years</td>\n",
              "      <td>RENT</td>\n",
              "      <td>69840.0</td>\n",
              "      <td>2013-10-26</td>\n",
              "      <td>0</td>\n",
              "      <td>Debt consolidation</td>\n",
              "      <td>8.0</td>\n",
              "      <td>2014-09-26</td>\n",
              "      <td>NaN</td>\n",
              "      <td>10</td>\n",
              "    </tr>\n",
              "    <tr>\n",
              "      <th>3</th>\n",
              "      <td>3</td>\n",
              "      <td>7600.0</td>\n",
              "      <td>5.8656</td>\n",
              "      <td>A</td>\n",
              "      <td>Other</td>\n",
              "      <td>&lt;=5 years</td>\n",
              "      <td>RENT</td>\n",
              "      <td>100386.0</td>\n",
              "      <td>2015-08-20</td>\n",
              "      <td>0</td>\n",
              "      <td>Debt consolidation</td>\n",
              "      <td>20.0</td>\n",
              "      <td>2016-01-26</td>\n",
              "      <td>NaN</td>\n",
              "      <td>8</td>\n",
              "    </tr>\n",
              "    <tr>\n",
              "      <th>4</th>\n",
              "      <td>4</td>\n",
              "      <td>31960.0</td>\n",
              "      <td>18.7392</td>\n",
              "      <td>E</td>\n",
              "      <td>Bus driver</td>\n",
              "      <td>&gt;5 years</td>\n",
              "      <td>RENT</td>\n",
              "      <td>95040.0</td>\n",
              "      <td>2014-07-22</td>\n",
              "      <td>0</td>\n",
              "      <td>Debt consolidation</td>\n",
              "      <td>14.0</td>\n",
              "      <td>2016-01-11</td>\n",
              "      <td>NaN</td>\n",
              "      <td>7</td>\n",
              "    </tr>\n",
              "  </tbody>\n",
              "</table>\n",
              "</div>"
            ],
            "text/plain": [
              "   customer_id  disbursed_amount  ...  number_credit_lines_12 Month_loan_issued\n",
              "0            0           23201.5  ...                     NaN                 6\n",
              "1            1            7425.0  ...                     NaN                 5\n",
              "2            2           11150.0  ...                     NaN                10\n",
              "3            3            7600.0  ...                     NaN                 8\n",
              "4            4           31960.0  ...                     NaN                 7\n",
              "\n",
              "[5 rows x 15 columns]"
            ]
          },
          "metadata": {
            "tags": []
          },
          "execution_count": 23
        }
      ]
    },
    {
      "cell_type": "code",
      "metadata": {
        "colab": {
          "base_uri": "https://localhost:8080/",
          "height": 410
        },
        "id": "fETO36Wfk4AL",
        "outputId": "7dbe09a2-4c4b-48b1-f202-2b2e030de0f6"
      },
      "source": [
        "def display_plots(col):\r\n",
        "  fig, ((ax1,ax2)) = plt.subplots(nrows=1,ncols=2,figsize=(25,6)) # figure of 2 rows and 3 columns subplots \r\n",
        "  ax1=sns.countplot(x=col,data=loan_data,ax=ax1)\r\n",
        "  for p in ax1.patches:\r\n",
        "    ax1.annotate(format(p.get_height(), ''), (p.get_x() + p.get_width()/2 , p.get_height()), ha = 'center', va = 'center', xytext = (0,10),rotation=0, textcoords = 'offset points',fontsize=12)\r\n",
        "  ax2=sns.countplot(x=col,data=loan_data,order=loan_data[col].value_counts().index,ax=ax2)\r\n",
        "  for p in ax2.patches:\r\n",
        "    ax2.annotate(format(p.get_height(), ''), (p.get_x() + p.get_width()/2 , p.get_height()), ha = 'center', va = 'center', xytext = (0,10),rotation=0, textcoords = 'offset points',fontsize=12)\r\n",
        "  plt.show()\r\n",
        "\r\n",
        "display_plots('Month_loan_issued')"
      ],
      "execution_count": 33,
      "outputs": [
        {
          "output_type": "display_data",
          "data": {
            "image/png": "[encoded data removed]",
            "text/plain": [
              "<Figure size 1800x432 with 2 Axes>"
            ]
          },
          "metadata": {
            "tags": [],
            "needs_background": "light"
          }
        }
      ]
    },
    {
      "cell_type": "markdown",
      "metadata": {
        "id": "XpVgXl2snDlm"
      },
      "source": [
        "**Inference :** \r\n",
        "\r\n",
        "From the sorted subplot 2, it is clear that month 10 i.e October is the month in which lot of loans were issued. There are 1277 loan issues happened in the month of october (Month 10). "
      ]
    },
    {
      "cell_type": "markdown",
      "metadata": {
        "id": "USnb-fVuncJL"
      },
      "source": [
        "### **TASK 5:**\r\n",
        "Display the count of ‘Teacher’ who are ‘Owners’"
      ]
    },
    {
      "cell_type": "code",
      "metadata": {
        "id": "A5t7dxOfiM0u",
        "colab": {
          "base_uri": "https://localhost:8080/",
          "height": 475
        },
        "outputId": "dc3cf74d-67b3-4eab-9424-323361c61425"
      },
      "source": [
        "def display_plots2(col1,col2):\r\n",
        "  fig, ((ax1,ax2)) = plt.subplots(nrows=1,ncols=2,figsize=(25,6)) # figure of 2 rows and 3 columns subplots \r\n",
        "  ax1=sns.countplot(x=col1,data=loan_data,ax=ax1)\r\n",
        "  for p in ax1.patches:\r\n",
        "    ax1.annotate(format(p.get_height(), ''), (p.get_x() + p.get_width()/2 , p.get_height()), ha = 'center', va = 'center', xytext = (0,10),rotation=0, textcoords = 'offset points',fontsize=12)\r\n",
        "  ax1.tick_params(axis='x', rotation=45)\r\n",
        "  ax2=sns.countplot(x=col1,data=loan_data,hue=col2,ax=ax2)\r\n",
        "  for p in ax2.patches:\r\n",
        "    ax2.annotate(format(p.get_height(), ''), (p.get_x() + p.get_width()/2 , p.get_height()), ha = 'center', va = 'center', xytext = (0,10),rotation=0, textcoords = 'offset points',fontsize=12)\r\n",
        "  ax2.tick_params(axis='x', rotation=45)\r\n",
        "  ax2.legend(title=col2, bbox_to_anchor=(1.05, 1), loc='upper left')\r\n",
        "  plt.show()\r\n",
        "\r\n",
        "display_plots2('employment','householder')"
      ],
      "execution_count": 43,
      "outputs": [
        {
          "output_type": "display_data",
          "data": {
            "image/png": "[encoded data removed]",
            "text/plain": [
              "<Figure size 1800x432 with 2 Axes>"
            ]
          },
          "metadata": {
            "tags": [],
            "needs_background": "light"
          }
        }
      ]
    },
    {
      "cell_type": "markdown",
      "metadata": {
        "id": "mCjSzFcDpPQZ"
      },
      "source": [
        "### **Inference :** \r\n",
        "\r\n",
        "1. From subplot 1 it is clear that there are 861 teachers. \r\n",
        "2. From subplot 2 we can infer that out of this 861 teachers 69 are OWNER. \r\n",
        "\r\n",
        "Therefore, 69 teachers are OWNERS."
      ]
    },
    {
      "cell_type": "markdown",
      "metadata": {
        "id": "3nB8bS5FphXy"
      },
      "source": [
        "### **TASK 6:**\r\n",
        "Display the ‘Employment’ of customers who mostly ‘Rent’"
      ]
    },
    {
      "cell_type": "code",
      "metadata": {
        "colab": {
          "base_uri": "https://localhost:8080/"
        },
        "id": "-rakojbZqb7D",
        "outputId": "26774851-51ce-406a-8ba6-6e79f2465cb0"
      },
      "source": [
        "loan_data[[\"employment\", \"householder\"]].value_counts(normalize=True)"
      ],
      "execution_count": 54,
      "outputs": [
        {
          "output_type": "execute_result",
          "data": {
            "text/plain": [
              "employment          householder\n",
              "Nurse               MORTGAGE       0.047289\n",
              "Accountant          MORTGAGE       0.046863\n",
              "Secretary           MORTGAGE       0.046011\n",
              "Taxi driver         MORTGAGE       0.045692\n",
              "Statistician        MORTGAGE       0.045372\n",
              "Other               MORTGAGE       0.045266\n",
              "Civil Servant       MORTGAGE       0.045159\n",
              "Teacher             MORTGAGE       0.044840\n",
              "Bus driver          MORTGAGE       0.044520\n",
              "Dentist             MORTGAGE       0.044520\n",
              "Software developer  MORTGAGE       0.044414\n",
              "Civil Servant       RENT           0.039514\n",
              "Teacher             RENT           0.039514\n",
              "Bus driver          RENT           0.038343\n",
              "Nurse               RENT           0.038130\n",
              "Dentist             RENT           0.037810\n",
              "Secretary           RENT           0.037810\n",
              "Other               RENT           0.037597\n",
              "Statistician        RENT           0.036426\n",
              "Accountant          RENT           0.034295\n",
              "Taxi driver         RENT           0.033656\n",
              "Software developer  RENT           0.033550\n",
              "Bus driver          OWNER          0.010225\n",
              "Accountant          OWNER          0.009586\n",
              "Civil Servant       OWNER          0.009479\n",
              "Other               OWNER          0.009053\n",
              "Statistician        OWNER          0.008947\n",
              "Taxi driver         OWNER          0.008521\n",
              "Nurse               OWNER          0.008308\n",
              "Software developer  OWNER          0.008095\n",
              "Dentist             OWNER          0.007562\n",
              "Teacher             OWNER          0.007349\n",
              "Secretary           OWNER          0.006284\n",
              "dtype: float64"
            ]
          },
          "metadata": {
            "tags": []
          },
          "execution_count": 54
        }
      ]
    },
    {
      "cell_type": "markdown",
      "metadata": {
        "id": "XjmkgXTSp2tv"
      },
      "source": [
        "**Inference :**\r\n",
        "\r\n",
        "From the plot plotted for task 5, we can also infer that employment such as Teachers, Civil service customers mostly in Rent. We could see that 371/861 teachers were in Rent and 371//884 civil service people were in Rent."
      ]
    }
  ]
}